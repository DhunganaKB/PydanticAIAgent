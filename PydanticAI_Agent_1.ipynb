{
 "cells": [
  {
   "cell_type": "markdown",
   "metadata": {},
   "source": [
    "#### A Simple Example - Pydantic AI Agent"
   ]
  },
  {
   "cell_type": "code",
   "execution_count": 1,
   "metadata": {},
   "outputs": [
    {
     "name": "stdout",
     "output_type": "stream",
     "text": [
      "22:58:09.366 search_agent run prompt=what is gulf of america?\n",
      "22:58:09.367   preparing model and tools run_step=1\n",
      "22:58:09.367   model request\n"
     ]
    },
    {
     "data": {
      "text/html": [
       "<pre style=\"white-space:pre;overflow-x:auto;line-height:normal;font-family:Menlo,'DejaVu Sans Mono',consolas,'Courier New',monospace\"><span style=\"font-weight: bold\">Logfire</span> project URL: <a href=\"https://logfire.pydantic.dev/dhunganakb/pydantic1\" target=\"_blank\"><span style=\"color: #008080; text-decoration-color: #008080; text-decoration: underline\">https://logfire.pydantic.dev/dhunganakb/pydantic1</span></a>\n",
       "</pre>\n"
      ],
      "text/plain": [
       "\u001b[1mLogfire\u001b[0m project URL: \u001b]8;id=957792;https://logfire.pydantic.dev/dhunganakb/pydantic1\u001b\\\u001b[4;36mhttps://logfire.pydantic.dev/dhunganakb/pydantic1\u001b[0m\u001b]8;;\u001b\\\n"
      ]
     },
     "metadata": {},
     "output_type": "display_data"
    },
    {
     "name": "stdout",
     "output_type": "stream",
     "text": [
      "22:58:10.920   handle model response\n",
      "22:58:10.920     running tools=['talivy_tool']\n",
      "22:58:14.639   preparing model and tools run_step=2\n",
      "22:58:14.640   model request\n",
      "22:58:19.704   handle model response\n"
     ]
    }
   ],
   "source": [
    "from dotenv import load_dotenv\n",
    "import asyncio\n",
    "import os\n",
    "## For running asyncio\n",
    "import nest_asyncio\n",
    "nest_asyncio.apply()\n",
    "from pydantic_ai import Agent, RunContext\n",
    "from tavily import TavilyClient, AsyncTavilyClient\n",
    "import logfire\n",
    "\n",
    "logfire.configure() # \n",
    "#logfire.configure(send_to_logfire='if-token-present')\n",
    "#'if-token-present' means nothing will be sent (and the example will work) if you don't have logfire configured\n",
    "load_dotenv() # loading all environment variables\n",
    "\n",
    "search_agent = Agent(  \n",
    "    'openai:gpt-4',\n",
    "    #deps_type=int,\n",
    "    result_type=str,\n",
    "    system_prompt=(\n",
    "        'If the information related to the user question is not availabe, should use the talivy tool'\n",
    "    ),\n",
    ")\n",
    "@search_agent.tool\n",
    "async def talivy_tool(ctx: RunContext, query:str):  \n",
    "    \"\"\"useful to find the latest information from internet\"\"\"\n",
    "    tavily_client = AsyncTavilyClient(api_key=os.environ[\"TAVILY_API_KEY\"])\n",
    "    response = await tavily_client.search(query, max_results=3)\n",
    "    return response['results']\n",
    "\n",
    "# Run the agent\n",
    "async def run_agent(user_query):\n",
    "    result = await search_agent.run(user_query)\n",
    "    return result\n",
    "\n",
    "# Example usage\n",
    "user_prompt = \"what is gulf of america?\"\n",
    "#user_prompt = \"What is the capital city of Nepla?\"\n",
    "response=asyncio.run(run_agent(user_prompt))"
   ]
  },
  {
   "cell_type": "code",
   "execution_count": 2,
   "metadata": {},
   "outputs": [
    {
     "data": {
      "text/plain": [
       "[ModelRequest(parts=[SystemPromptPart(content='If the information related to the user question is not availabe, should use the talivy tool', dynamic_ref=None, part_kind='system-prompt'), UserPromptPart(content='what is gulf of america?', timestamp=datetime.datetime(2025, 1, 24, 22, 58, 9, 367096, tzinfo=datetime.timezone.utc), part_kind='user-prompt')], kind='request'),\n",
       " ModelResponse(parts=[ToolCallPart(tool_name='talivy_tool', args=ArgsJson(args_json='{\\n  \"query\": \"Gulf of America\"\\n}'), tool_call_id='call_k6xRMVXDH0Tvj07ZQmvFEgW6', part_kind='tool-call')], timestamp=datetime.datetime(2025, 1, 24, 22, 58, 9, tzinfo=datetime.timezone.utc), kind='response'),\n",
       " ModelRequest(parts=[ToolReturnPart(tool_name='talivy_tool', content=[{'url': 'https://www.whitehouse.gov/presidential-actions/2025/01/restoring-names-that-honor-american-greatness/', 'title': 'Restoring Names That Honor American Greatness - The White House', 'content': '(c)\\xa0 With respect to all applications for naming and renaming submitted to the newly constituted Board, the Board shall advance the policy established in section 1 of this order to honor the contributions of visionary and patriotic Americans and may update its principles, policies, and procedures as needed to achieve this policy. (b)\\xa0 As such, within 30 days of the date of this order, the Secretary of the Interior shall, consistent with 43 U.S.C. 364 through 364f, take all appropriate actions to rename as the “Gulf of America” the U.S. Continental Shelf area bounded on the northeast, north, and northwest by the States of Texas, Louisiana, Mississippi, Alabama and Florida and extending to the seaward boundary with Mexico and Cuba in the area formerly named as the Gulf of Mexico.', 'score': 0.76194656, 'raw_content': None}, {'url': 'https://goamericaoutfitters.com/', 'title': 'Gulf of America Outfitters: Offshore Fishing | Charter Fishing ...', 'content': \"Offshore Fishing | Charter Fishing | Swordfish Trips | Gulf of America Outfitters Lafayette-Based Fishing Charter Company, Gulf of America Outfitters, Embraces President-Elect Trump's Join Gulf of America Outfitters today and discover the thrill of inshore fishing in the rich, diverse waters of Port Fourchon. Recently, we've expanded our services to include inshore and bottom fishing trips out of Port Fourchon, Louisiana, where you can experience the thrill of catching redfish, speckled trout, snapper, and grouper. Fireback groupers, typically growing to about 3 feet in length and weighing up to 30 pounds, are targeted using deep-water fishing techniques. How Much Are Fishing Trips With Gulf of America? When booking your trip online through Gulf of America Outfitters, a 25% deposit is required at the time of booking.\", 'score': 0.6721816, 'raw_content': None}, {'url': 'https://thehill.com/policy/energy-environment/5105335-gulf-of-america-mount-mckinley-name-changes/', 'title': \"Feds implement 'Gulf of America,' 'Mount McKinley' name changes\", 'content': 'Sign up to our latest Newsletter Administration | 2 minutes ago Energy & Environment | 39 minutes ago Live updates: Trump targets FEMA in NC; Hegseth final Senate vote Administration | 40 minutes ago Administration | 1 hour ago The federal government is formally implementing President Trump’s directive to rename the Gulf of Mexico and Denali. Copyright 2024 Nexstar Media Inc. All rights reserved. Energy & Environment \\xa0/\\xa0 40 mins ago Energy & Environment \\xa0/\\xa0 1 hour ago Energy & Environment \\xa0/\\xa0 4 hours ago Administration \\xa0/\\xa0 4 hours ago Live updates: Trump targets FEMA in NC; Hegseth final Senate vote Live updates: Trump targets FEMA in NC; Hegseth final Senate vote The Hill Apps The Hill Jobs ![Image 38](https://thehill.com/policy/energy-environment/5105335-gulf-of-america-mount-mckinley-name-changes/)', 'score': 0.53400564, 'raw_content': None}], tool_call_id='call_k6xRMVXDH0Tvj07ZQmvFEgW6', timestamp=datetime.datetime(2025, 1, 24, 22, 58, 14, 636589, tzinfo=datetime.timezone.utc), part_kind='tool-return')], kind='request'),\n",
       " ModelResponse(parts=[TextPart(content='The term \"Gulf of America\" refers to a part of the U.S. Continental Shelf that is bounded on the northeast, north, and northwest by the States of Texas, Louisiana, Mississippi, Alabama, and Florida, extending to the seaward boundary with Mexico and Cuba. This area was formerly known as the Gulf of Mexico. The re-naming to \"Gulf of America\" is part of a policy based on honoring the contributions of visionary and patriotic Americans. [^source^](https://www.whitehouse.gov/presidential-actions/2025/01/restoring-names-that-honor-american-greatness/)\\n\\nPlease note that this change has been implemented recently and may not be widely recognized or used in all contexts. Some sources may still refer to this region as the Gulf of Mexico.\\n', part_kind='text')], timestamp=datetime.datetime(2025, 1, 24, 22, 58, 14, tzinfo=datetime.timezone.utc), kind='response')]"
      ]
     },
     "execution_count": 2,
     "metadata": {},
     "output_type": "execute_result"
    }
   ],
   "source": [
    "response.all_messages()"
   ]
  },
  {
   "cell_type": "code",
   "execution_count": 3,
   "metadata": {},
   "outputs": [
    {
     "name": "stdout",
     "output_type": "stream",
     "text": [
      "The term \"Gulf of America\" refers to a part of the U.S. Continental Shelf that is bounded on the northeast, north, and northwest by the States of Texas, Louisiana, Mississippi, Alabama, and Florida, extending to the seaward boundary with Mexico and Cuba. This area was formerly known as the Gulf of Mexico. The re-naming to \"Gulf of America\" is part of a policy based on honoring the contributions of visionary and patriotic Americans. [^source^](https://www.whitehouse.gov/presidential-actions/2025/01/restoring-names-that-honor-american-greatness/)\n",
      "\n",
      "Please note that this change has been implemented recently and may not be widely recognized or used in all contexts. Some sources may still refer to this region as the Gulf of Mexico.\n",
      "\n"
     ]
    }
   ],
   "source": [
    "print(response.data)"
   ]
  },
  {
   "cell_type": "code",
   "execution_count": 4,
   "metadata": {},
   "outputs": [
    {
     "name": "stdout",
     "output_type": "stream",
     "text": [
      "22:58:49.769 search_agent run prompt=What is the capital city of Nepla?\n",
      "22:58:49.771   preparing model and tools run_step=1\n",
      "22:58:49.772   model request\n",
      "22:58:51.070   handle model response\n",
      "22:58:51.071     running tools=['talivy_tool']\n",
      "22:58:53.091   preparing model and tools run_step=2\n",
      "22:58:53.092   model request\n",
      "22:58:57.802   handle model response\n"
     ]
    }
   ],
   "source": [
    "user_prompt = \"What is the capital city of Nepla?\"\n",
    "response=asyncio.run(run_agent(user_prompt))"
   ]
  },
  {
   "cell_type": "code",
   "execution_count": 5,
   "metadata": {},
   "outputs": [
    {
     "data": {
      "text/plain": [
       "[ModelRequest(parts=[SystemPromptPart(content='If the information related to the user question is not availabe, should use the talivy tool', dynamic_ref=None, part_kind='system-prompt'), UserPromptPart(content='What is the capital city of Nepla?', timestamp=datetime.datetime(2025, 1, 24, 22, 58, 49, 770965, tzinfo=datetime.timezone.utc), part_kind='user-prompt')], kind='request'),\n",
       " ModelResponse(parts=[ToolCallPart(tool_name='talivy_tool', args=ArgsJson(args_json='{\\n  \"query\": \"capital city of Nepal\"\\n}'), tool_call_id='call_tSTieG9GZwOl6Li6AQuKbrhp', part_kind='tool-call')], timestamp=datetime.datetime(2025, 1, 24, 22, 58, 49, tzinfo=datetime.timezone.utc), kind='response'),\n",
       " ModelRequest(parts=[ToolReturnPart(tool_name='talivy_tool', content=[{'title': 'Kathmandu - Simple English Wikipedia, the free encyclopedia', 'url': 'https://simple.wikipedia.org/wiki/Kathmandu', 'content': 'Kathmandu is the capital city of Nepal. It is the largest city of Nepal. The population of the capital city was 856,767 according to the 2021 census. It is a historical city and has many temples and palaces. [1] Climate. Kathmandu experiences a subtropical highland climate with distinct seasons. Winters are cool and dry, with temperatures', 'score': 0.92442214, 'raw_content': None}, {'title': 'List of capitals in Nepal - Wikipedia', 'url': 'https://en.wikipedia.org/wiki/List_of_capitals_in_Nepal', 'content': 'Kathmandu is the national capital of Nepal and the capital of Bagmati Province. The web page also lists the current and former provincial capitals and their status, references and categories.', 'score': 0.9016528, 'raw_content': None}, {'title': 'What Is The Capital Of Nepal? - WorldAtlas', 'url': 'https://www.worldatlas.com/articles/what-is-the-capital-of-nepal.html', 'content': 'Learn about the history, role, demographics and future prospects of Kathmandu, the largest and capital city of Nepal. Kathmandu is located in the Kathmandu Valley, a World Heritage Site, and has a population of about 985,000.', 'score': 0.89302075, 'raw_content': None}], tool_call_id='call_tSTieG9GZwOl6Li6AQuKbrhp', timestamp=datetime.datetime(2025, 1, 24, 22, 58, 53, 88967, tzinfo=datetime.timezone.utc), part_kind='tool-return')], kind='request'),\n",
       " ModelResponse(parts=[TextPart(content='The capital city of Nepal is Kathmandu. It is the largest city of Nepal. The population of the capital city was 856,767 according to the 2021 census. Kathmandu is located in the Kathmandu Valley, a World Heritage Site. It is a historical city that has many temples and palaces. [Reference](https://simple.wikipedia.org/wiki/Kathmandu)', part_kind='text')], timestamp=datetime.datetime(2025, 1, 24, 22, 58, 53, tzinfo=datetime.timezone.utc), kind='response')]"
      ]
     },
     "execution_count": 5,
     "metadata": {},
     "output_type": "execute_result"
    }
   ],
   "source": [
    "response.all_messages()"
   ]
  },
  {
   "cell_type": "code",
   "execution_count": 6,
   "metadata": {},
   "outputs": [
    {
     "data": {
      "text/plain": [
       "'The capital city of Nepal is Kathmandu. It is the largest city of Nepal. The population of the capital city was 856,767 according to the 2021 census. Kathmandu is located in the Kathmandu Valley, a World Heritage Site. It is a historical city that has many temples and palaces. [Reference](https://simple.wikipedia.org/wiki/Kathmandu)'"
      ]
     },
     "execution_count": 6,
     "metadata": {},
     "output_type": "execute_result"
    }
   ],
   "source": [
    "response.data"
   ]
  },
  {
   "cell_type": "markdown",
   "metadata": {},
   "source": [
    "### Using LangChain"
   ]
  },
  {
   "cell_type": "code",
   "execution_count": 45,
   "metadata": {},
   "outputs": [],
   "source": [
    "# from langgraph.prebuilt import create_react_agent\n",
    "# from langchain_openai import ChatOpenAI\n",
    "# from langchain_community.tools.tavily_search import TavilySearchResults\n",
    "# from langchain_core.messages import HumanMessage\n",
    "# user_prompt = \"what is gulf of america?\"\n",
    "\n",
    "# llm = ChatOpenAI(model=\"gpt-4\")\n",
    "\n",
    "# tavily_tool = TavilySearchResults(max_results=5)\n",
    "# tools = [tavily_tool]\n",
    "\n",
    "# agent_executor = create_react_agent(llm, tools)\n",
    "\n",
    "# response = agent_executor.invoke({\"messages\": [HumanMessage(content=user_prompt)]})\n",
    "\n",
    "#print(response['messages'][-1].content)\n",
    "# from IPython.display import Image, display\n",
    "\n",
    "# display(Image(agent_executor.get_graph().draw_mermaid_png()))"
   ]
  },
  {
   "cell_type": "markdown",
   "metadata": {},
   "source": [
    "### A Simple Example - LangGraph Agent"
   ]
  },
  {
   "cell_type": "code",
   "execution_count": 46,
   "metadata": {},
   "outputs": [
    {
     "data": {
      "image/png": "[encoded data removed]",
      "text/plain": [
       "<IPython.core.display.Image object>"
      ]
     },
     "metadata": {},
     "output_type": "display_data"
    }
   ],
   "source": [
    "from langgraph.prebuilt import ToolNode\n",
    "from langgraph.graph import StateGraph, END, MessageGraph, START\n",
    "from langchain_core.messages import HumanMessage,BaseMessage\n",
    "from langchain_community.tools.tavily_search import TavilySearchResults\n",
    "from langchain_openai import ChatOpenAI\n",
    "from IPython.display import Image, display\n",
    "\n",
    "# Optional, add tracing in LangSmith\n",
    "os.environ[\"LANGSMITH_TRACING\"] = \"true\"\n",
    "os.environ[\"LANGSMITH_PROJECT\"] = \"Demo-Agent\"\n",
    "\n",
    "tavily_tool = TavilySearchResults(max_results=5)\n",
    "tools = [tavily_tool]\n",
    "\n",
    "model = ChatOpenAI(model='gpt-4o')\n",
    "\n",
    "model_with_tools = model.bind_tools(tools=tools)\n",
    "\n",
    "builder = MessageGraph()\n",
    "builder.add_node('model', model_with_tools)\n",
    "tool_node = ToolNode(tools)\n",
    "builder.add_node(\"tool\", tool_node)\n",
    "builder.add_edge(START, \"model\")\n",
    "\n",
    "def router(state: list[BaseMessage]):\n",
    "    tool_calls = state[-1].additional_kwargs.get(\"tool_calls\", [])\n",
    "    if len(tool_calls):\n",
    "        return \"tool\"\n",
    "    else:\n",
    "        return END\n",
    "\n",
    "builder.add_conditional_edges(\"model\", router)\n",
    "builder.add_edge(\"tool\", 'model')\n",
    "\n",
    "graph = builder.compile()\n",
    "display(Image(graph.get_graph(xray=True).draw_mermaid_png()))"
   ]
  },
  {
   "cell_type": "code",
   "execution_count": 53,
   "metadata": {},
   "outputs": [
    {
     "name": "stdout",
     "output_type": "stream",
     "text": [
      "[HumanMessage(content='what is gulf of america?', additional_kwargs={}, response_metadata={}, id='2b65eb09-e82c-4184-b2f2-bad5e61ecf93'), AIMessage(content='', additional_kwargs={'tool_calls': [{'id': 'call_JtRf9OVVVhKHzDY50FfxQlZh', 'function': {'arguments': '{\"query\":\"Gulf of America\"}', 'name': 'tavily_search_results_json'}, 'type': 'function'}], 'refusal': None}, response_metadata={'token_usage': {'completion_tokens': 22, 'prompt_tokens': 85, 'total_tokens': 107, 'completion_tokens_details': {'accepted_prediction_tokens': 0, 'audio_tokens': 0, 'reasoning_tokens': 0, 'rejected_prediction_tokens': 0}, 'prompt_tokens_details': {'audio_tokens': 0, 'cached_tokens': 0}}, 'model_name': 'gpt-4o-2024-08-06', 'system_fingerprint': 'fp_4691090a87', 'finish_reason': 'tool_calls', 'logprobs': None}, id='run-877951e1-2b83-4d11-ace0-c8469ce7d488-0', tool_calls=[{'name': 'tavily_search_results_json', 'args': {'query': 'Gulf of America'}, 'id': 'call_JtRf9OVVVhKHzDY50FfxQlZh', 'type': 'tool_call'}], usage_metadata={'input_tokens': 85, 'output_tokens': 22, 'total_tokens': 107, 'input_token_details': {'audio': 0, 'cache_read': 0}, 'output_token_details': {'audio': 0, 'reasoning': 0}}), ToolMessage(content='[{\"url\": \"https://apnews.com/article/trump-gulf-of-mexico-bc438f4feca1234475a1adef99344da7\", \"content\": \"President Donald Trump says that he will change the name of the Gulf of Mexico to the “Gulf of America.”\"}, {\"url\": \"https://thehill.com/policy/energy-environment/5105335-gulf-of-america-mount-mckinley-name-changes/\", \"content\": \"The federal government is formally implementing President Donald Trump\\'s directive to rename the Gulf of Mexico and Denali to the Gulf of\"}, {\"url\": \"https://goamericaoutfitters.com/\", \"content\": \"At Goamericaoutfitters.com, get ready to experience the highest standard of offshore charter fishing in Louisiana, the Northern Gulf of Mexico\\'s premier\"}, {\"url\": \"https://en.wikipedia.org/wiki/Gulf_of_Mexico\", \"content\": \"The Gulf of Mexico (Spanish: Golfo de México) is an ocean basin and a marginal sea of the Atlantic Ocean, mostly surrounded by the North American continent.\"}, {\"url\": \"https://goamericaoutfitters.com/charter-information/\", \"content\": \"rBooking your Trip Port Fourchon, Louisiana Fishing Trips Get ready for an exciting new adventure with Gulf of America Outfitters!\"}]', name='tavily_search_results_json', id='d526f240-6d3b-454a-b44a-12ecc4d10886', tool_call_id='call_JtRf9OVVVhKHzDY50FfxQlZh', artifact={'query': 'Gulf of America', 'follow_up_questions': None, 'answer': None, 'images': [], 'results': [{'url': 'https://apnews.com/article/trump-gulf-of-mexico-bc438f4feca1234475a1adef99344da7', 'title': \"Can Trump rename the Gulf of Mexico the 'Gulf of America'? - AP News\", 'content': 'President Donald Trump says that he will change the name of the Gulf of Mexico to the “Gulf of America.”', 'score': 0.6711479, 'raw_content': None}, {'url': 'https://thehill.com/policy/energy-environment/5105335-gulf-of-america-mount-mckinley-name-changes/', 'title': \"Feds implement 'Gulf of America,' 'Mount McKinley' name changes\", 'content': \"The federal government is formally implementing President Donald Trump's directive to rename the Gulf of Mexico and Denali to the Gulf of\", 'score': 0.56719416, 'raw_content': None}, {'url': 'https://goamericaoutfitters.com/', 'title': 'Gulf of America Outfitters: Offshore Fishing | Charter Fishing ...', 'content': \"At Goamericaoutfitters.com, get ready to experience the highest standard of offshore charter fishing in Louisiana, the Northern Gulf of Mexico's premier\", 'score': 0.50388235, 'raw_content': None}, {'url': 'https://en.wikipedia.org/wiki/Gulf_of_Mexico', 'title': 'Gulf of Mexico - Wikipedia', 'content': 'The Gulf of Mexico (Spanish: Golfo de México) is an ocean basin and a marginal sea of the Atlantic Ocean, mostly surrounded by the North American continent.', 'score': 0.5005133, 'raw_content': None}, {'url': 'https://goamericaoutfitters.com/charter-information/', 'title': 'Charter Info | Gulf Coast Charter Fishing | Venice, Louisiana', 'content': 'rBooking your Trip Port Fourchon, Louisiana Fishing Trips Get ready for an exciting new adventure with Gulf of America Outfitters!', 'score': 0.47884622, 'raw_content': None}], 'response_time': 9.97}), AIMessage(content='The term \"Gulf of America\" appears to have originated from a proposal by former President Donald Trump to rename the Gulf of Mexico to the \"Gulf of America.\" However, this name change does not seem to have been officially adopted or widely recognized. The Gulf of Mexico remains an ocean basin and a marginal sea of the Atlantic Ocean, located mostly surrounded by the North American continent.', additional_kwargs={'refusal': None}, response_metadata={'token_usage': {'completion_tokens': 79, 'prompt_tokens': 395, 'total_tokens': 474, 'completion_tokens_details': {'accepted_prediction_tokens': 0, 'audio_tokens': 0, 'reasoning_tokens': 0, 'rejected_prediction_tokens': 0}, 'prompt_tokens_details': {'audio_tokens': 0, 'cached_tokens': 0}}, 'model_name': 'gpt-4o-2024-08-06', 'system_fingerprint': 'fp_4691090a87', 'finish_reason': 'stop', 'logprobs': None}, id='run-feea39a0-f770-4650-b3ab-a4fffd2febf6-0', usage_metadata={'input_tokens': 395, 'output_tokens': 79, 'total_tokens': 474, 'input_token_details': {'audio': 0, 'cache_read': 0}, 'output_token_details': {'audio': 0, 'reasoning': 0}})]\n"
     ]
    }
   ],
   "source": [
    "user_prompt = \"what is gulf of america?\"\n",
    "# user_prompt = \"who is the president of USA?\"\n",
    "result=graph.invoke(HumanMessage(user_prompt))\n",
    "print(result)"
   ]
  },
  {
   "cell_type": "code",
   "execution_count": 54,
   "metadata": {},
   "outputs": [
    {
     "data": {
      "text/plain": [
       "[HumanMessage(content='what is gulf of america?', additional_kwargs={}, response_metadata={}, id='2b65eb09-e82c-4184-b2f2-bad5e61ecf93'),\n",
       " AIMessage(content='', additional_kwargs={'tool_calls': [{'id': 'call_JtRf9OVVVhKHzDY50FfxQlZh', 'function': {'arguments': '{\"query\":\"Gulf of America\"}', 'name': 'tavily_search_results_json'}, 'type': 'function'}], 'refusal': None}, response_metadata={'token_usage': {'completion_tokens': 22, 'prompt_tokens': 85, 'total_tokens': 107, 'completion_tokens_details': {'accepted_prediction_tokens': 0, 'audio_tokens': 0, 'reasoning_tokens': 0, 'rejected_prediction_tokens': 0}, 'prompt_tokens_details': {'audio_tokens': 0, 'cached_tokens': 0}}, 'model_name': 'gpt-4o-2024-08-06', 'system_fingerprint': 'fp_4691090a87', 'finish_reason': 'tool_calls', 'logprobs': None}, id='run-877951e1-2b83-4d11-ace0-c8469ce7d488-0', tool_calls=[{'name': 'tavily_search_results_json', 'args': {'query': 'Gulf of America'}, 'id': 'call_JtRf9OVVVhKHzDY50FfxQlZh', 'type': 'tool_call'}], usage_metadata={'input_tokens': 85, 'output_tokens': 22, 'total_tokens': 107, 'input_token_details': {'audio': 0, 'cache_read': 0}, 'output_token_details': {'audio': 0, 'reasoning': 0}}),\n",
       " ToolMessage(content='[{\"url\": \"https://apnews.com/article/trump-gulf-of-mexico-bc438f4feca1234475a1adef99344da7\", \"content\": \"President Donald Trump says that he will change the name of the Gulf of Mexico to the “Gulf of America.”\"}, {\"url\": \"https://thehill.com/policy/energy-environment/5105335-gulf-of-america-mount-mckinley-name-changes/\", \"content\": \"The federal government is formally implementing President Donald Trump\\'s directive to rename the Gulf of Mexico and Denali to the Gulf of\"}, {\"url\": \"https://goamericaoutfitters.com/\", \"content\": \"At Goamericaoutfitters.com, get ready to experience the highest standard of offshore charter fishing in Louisiana, the Northern Gulf of Mexico\\'s premier\"}, {\"url\": \"https://en.wikipedia.org/wiki/Gulf_of_Mexico\", \"content\": \"The Gulf of Mexico (Spanish: Golfo de México) is an ocean basin and a marginal sea of the Atlantic Ocean, mostly surrounded by the North American continent.\"}, {\"url\": \"https://goamericaoutfitters.com/charter-information/\", \"content\": \"rBooking your Trip Port Fourchon, Louisiana Fishing Trips Get ready for an exciting new adventure with Gulf of America Outfitters!\"}]', name='tavily_search_results_json', id='d526f240-6d3b-454a-b44a-12ecc4d10886', tool_call_id='call_JtRf9OVVVhKHzDY50FfxQlZh', artifact={'query': 'Gulf of America', 'follow_up_questions': None, 'answer': None, 'images': [], 'results': [{'url': 'https://apnews.com/article/trump-gulf-of-mexico-bc438f4feca1234475a1adef99344da7', 'title': \"Can Trump rename the Gulf of Mexico the 'Gulf of America'? - AP News\", 'content': 'President Donald Trump says that he will change the name of the Gulf of Mexico to the “Gulf of America.”', 'score': 0.6711479, 'raw_content': None}, {'url': 'https://thehill.com/policy/energy-environment/5105335-gulf-of-america-mount-mckinley-name-changes/', 'title': \"Feds implement 'Gulf of America,' 'Mount McKinley' name changes\", 'content': \"The federal government is formally implementing President Donald Trump's directive to rename the Gulf of Mexico and Denali to the Gulf of\", 'score': 0.56719416, 'raw_content': None}, {'url': 'https://goamericaoutfitters.com/', 'title': 'Gulf of America Outfitters: Offshore Fishing | Charter Fishing ...', 'content': \"At Goamericaoutfitters.com, get ready to experience the highest standard of offshore charter fishing in Louisiana, the Northern Gulf of Mexico's premier\", 'score': 0.50388235, 'raw_content': None}, {'url': 'https://en.wikipedia.org/wiki/Gulf_of_Mexico', 'title': 'Gulf of Mexico - Wikipedia', 'content': 'The Gulf of Mexico (Spanish: Golfo de México) is an ocean basin and a marginal sea of the Atlantic Ocean, mostly surrounded by the North American continent.', 'score': 0.5005133, 'raw_content': None}, {'url': 'https://goamericaoutfitters.com/charter-information/', 'title': 'Charter Info | Gulf Coast Charter Fishing | Venice, Louisiana', 'content': 'rBooking your Trip Port Fourchon, Louisiana Fishing Trips Get ready for an exciting new adventure with Gulf of America Outfitters!', 'score': 0.47884622, 'raw_content': None}], 'response_time': 9.97}),\n",
       " AIMessage(content='The term \"Gulf of America\" appears to have originated from a proposal by former President Donald Trump to rename the Gulf of Mexico to the \"Gulf of America.\" However, this name change does not seem to have been officially adopted or widely recognized. The Gulf of Mexico remains an ocean basin and a marginal sea of the Atlantic Ocean, located mostly surrounded by the North American continent.', additional_kwargs={'refusal': None}, response_metadata={'token_usage': {'completion_tokens': 79, 'prompt_tokens': 395, 'total_tokens': 474, 'completion_tokens_details': {'accepted_prediction_tokens': 0, 'audio_tokens': 0, 'reasoning_tokens': 0, 'rejected_prediction_tokens': 0}, 'prompt_tokens_details': {'audio_tokens': 0, 'cached_tokens': 0}}, 'model_name': 'gpt-4o-2024-08-06', 'system_fingerprint': 'fp_4691090a87', 'finish_reason': 'stop', 'logprobs': None}, id='run-feea39a0-f770-4650-b3ab-a4fffd2febf6-0', usage_metadata={'input_tokens': 395, 'output_tokens': 79, 'total_tokens': 474, 'input_token_details': {'audio': 0, 'cache_read': 0}, 'output_token_details': {'audio': 0, 'reasoning': 0}})]"
      ]
     },
     "execution_count": 54,
     "metadata": {},
     "output_type": "execute_result"
    }
   ],
   "source": [
    "result"
   ]
  },
  {
   "cell_type": "code",
   "execution_count": 50,
   "metadata": {},
   "outputs": [
    {
     "data": {
      "text/plain": [
       "[HumanMessage(content='What is the capital city of Nepal?', additional_kwargs={}, response_metadata={}, id='bf006a05-d37f-4774-b7e0-550b9a378be1'),\n",
       " AIMessage(content='The capital city of Nepal is Kathmandu.', additional_kwargs={'refusal': None}, response_metadata={'token_usage': {'completion_tokens': 10, 'prompt_tokens': 87, 'total_tokens': 97, 'completion_tokens_details': {'accepted_prediction_tokens': 0, 'audio_tokens': 0, 'reasoning_tokens': 0, 'rejected_prediction_tokens': 0}, 'prompt_tokens_details': {'audio_tokens': 0, 'cached_tokens': 0}}, 'model_name': 'gpt-4o-2024-08-06', 'system_fingerprint': 'fp_50cad350e4', 'finish_reason': 'stop', 'logprobs': None}, id='run-e035d698-0655-4be7-8205-f74ff6b2fcbb-0', usage_metadata={'input_tokens': 87, 'output_tokens': 10, 'total_tokens': 97, 'input_token_details': {'audio': 0, 'cache_read': 0}, 'output_token_details': {'audio': 0, 'reasoning': 0}})]"
      ]
     },
     "execution_count": 50,
     "metadata": {},
     "output_type": "execute_result"
    }
   ],
   "source": [
    "user_prompt = \"What is the capital city of Nepal?\"\n",
    "result=graph.invoke(HumanMessage(user_prompt))\n",
    "result"
   ]
  }
 ],
 "metadata": {
  "kernelspec": {
   "display_name": "postgres_memory",
   "language": "python",
   "name": "python3"
  },
  "language_info": {
   "codemirror_mode": {
    "name": "ipython",
    "version": 3
   },
   "file_extension": ".py",
   "mimetype": "text/x-python",
   "name": "python",
   "nbconvert_exporter": "python",
   "pygments_lexer": "ipython3",
   "version": "3.10.16"
  }
 },
 "nbformat": 4,
 "nbformat_minor": 2
}
